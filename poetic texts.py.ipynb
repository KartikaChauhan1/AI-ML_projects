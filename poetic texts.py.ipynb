{
 "cells": [
  {
   "cell_type": "code",
   "execution_count": 25,
   "id": "c48cd95f",
   "metadata": {},
   "outputs": [],
   "source": [
    "import random\n",
    "import numpy as np\n",
    "import tensorflow as tf\n",
    "from tensorflow.keras.models import Sequential\n",
    "from tensorflow.keras.layers import LSTM,Dense,Activation\n",
    "from tensorflow.keras.optimizers.legacy import RMSprop"
   ]
  },
  {
   "cell_type": "code",
   "execution_count": 26,
   "id": "eed6f897",
   "metadata": {},
   "outputs": [],
   "source": [
    "whatsapp_file_path = tf.keras.utils.get_file('whatsapp_conversation.txt', 'path_to_whatsapp_conversation.txt')"
   ]
  },
  {
   "cell_type": "code",
   "execution_count": 27,
   "id": "95bc2d73",
   "metadata": {},
   "outputs": [],
   "source": [
    "text=open(filepath,'rb').read().decode(encoding='utf-8').lower()"
   ]
  },
  {
   "cell_type": "code",
   "execution_count": 28,
   "id": "2e04498a",
   "metadata": {},
   "outputs": [],
   "source": [
    "text=text[300000:800000]\n",
    "characters=sorted(set(text))\n",
    "char_to_index=dict((c,i)for i,c in enumerate(characters))\n",
    "index_to_char=dict((i,c)for i,c in enumerate(characters))"
   ]
  },
  {
   "cell_type": "code",
   "execution_count": 29,
   "id": "ce0b8a38",
   "metadata": {},
   "outputs": [],
   "source": [
    "SEQ_LENGTH=40\n",
    "STEP_SIZE=3\n",
    "'''sentences=[]\n",
    "next_characters=[]'''"
   ]
  },
  {
   "cell_type": "code",
   "execution_count": 30,
   "id": "cf48cc9a",
   "metadata": {},
   "outputs": [],
   "source": [
    "'''for i in range(0,len(text)-SEQ_LENGTH,STEP_SIZE):\n",
    "    sentences.append(text[i:i+SEQ_LENGTH])\n",
    "    next_characters.append(text[i+SEQ_LENGTH])\n",
    "    '''"
   ]
  },
  {
   "cell_type": "code",
   "execution_count": 31,
   "id": "898ba467",
   "metadata": {},
   "outputs": [],
   "source": [
    "''''x=np.zeros((len(sentences),SEQ_LENGTH,len(characters)),dtype=np.bool_)\n",
    "y=np.zeros((len(sentences),len(characters)),dtype=np.bool_)''''"
   ]
  },
  {
   "cell_type": "code",
   "execution_count": 32,
   "id": "60a70853",
   "metadata": {},
   "outputs": [],
   "source": [
    "''''for i,sentence in enumerate(sentences):\n",
    "    for t,character in enumerate(sentence):\n",
    "        x[i,t,char_to_index[character]]=1\n",
    "    y[i,char_to_index[next_characters[i]]]=1'''"
   ]
  },
  {
   "cell_type": "code",
   "execution_count": 34,
   "id": "d50a34e0",
   "metadata": {},
   "outputs": [
    {
     "name": "stdout",
     "output_type": "stream",
     "text": [
      "Epoch 1/4\n",
      "651/651 [==============================] - 34s 52ms/step - loss: 2.1320\n",
      "Epoch 2/4\n",
      "651/651 [==============================] - 34s 52ms/step - loss: 1.6989\n",
      "Epoch 3/4\n",
      "651/651 [==============================] - 34s 53ms/step - loss: 1.5926\n",
      "Epoch 4/4\n",
      "651/651 [==============================] - 34s 53ms/step - loss: 1.5181\n",
      "INFO:tensorflow:Assets written to: textgenerator.model/assets\n"
     ]
    },
    {
     "name": "stderr",
     "output_type": "stream",
     "text": [
      "INFO:tensorflow:Assets written to: textgenerator.model/assets\n"
     ]
    }
   ],
   "source": [
    "\"\"\"\n",
    "model=Sequential()\n",
    "model.add(LSTM(128,input_shape=(SEQ_LENGTH,len(characters))))\n",
    "model.add(Dense(len(characters)))\n",
    "model.add(Activation('softmax'))\n",
    "model.compile(loss='categorical_crossentropy',optimizer=RMSprop(learning_rate=0.01))\n",
    "model.fit(x,y,batch_size=256,epochs=4)\n",
    "model.save('textgenerator.model')\n",
    "\"\"\""
   ]
  },
  {
   "cell_type": "code",
   "execution_count": 36,
   "id": "9eb9dd59",
   "metadata": {},
   "outputs": [],
   "source": [
    "model=tf.keras.models.load_model('textgenerator.model')"
   ]
  },
  {
   "cell_type": "code",
   "execution_count": 37,
   "id": "9ed9a40d",
   "metadata": {},
   "outputs": [],
   "source": [
    "def sample(preds,temperature=1.0):\n",
    "    preds=np.asarray(preds).astype('float64')\n",
    "    preds=np.log(preds)/temperature\n",
    "    exp_preds=np.exp(preds)\n",
    "    preds=exp_preds/np.sum(exp_preds)\n",
    "    probas=np.random.multinomial(1,preds,1)\n",
    "    return np.argmax(probas)"
   ]
  },
  {
   "cell_type": "code",
   "execution_count": 40,
   "id": "7628cefe",
   "metadata": {},
   "outputs": [
    {
     "name": "stdout",
     "output_type": "stream",
     "text": [
      "---------0.2---------\n",
      "er of an hundred thousand crowns\n",
      "than both the storsell of the strenk the brother,\n",
      "and the heart of the lord of the brother with heart\n",
      "the stand with the power the stand the sear the bodged the more\n",
      "the seepen the seen a subless of the counself\n",
      "is the soul the subjects the sun the strength\n",
      "the stand me to be some seem'd the brother,\n",
      "and t\n",
      "---------0.4---------\n",
      "s! if you had,\n",
      "the thought of them would my counself,\n",
      "i have storsell hath son, and the beghands looks.\n",
      "\n",
      "pamis of york:\n",
      "and and the came of the bosomy she weeps\n",
      "upon the doubther and noth heart,\n",
      "the moubh the send the nower made me with hear no bread\n",
      "the men our many to sorrow, the mostreath.\n",
      "\n",
      "king richard ii:\n",
      "i have i say thou hast my pa\n",
      "---------0.6---------\n",
      "rd: and fear\n",
      "we have landed in ill time:\n",
      "for his the counself and the peace, their boy\n",
      "the as fain was woth me to be worself\n",
      "is gone and with him sound how as dother\n",
      "to some to me say the greeting from say\n",
      "you a sent this tongue as the streary the wite are\n",
      "young how nothing and the mores, and the leave son,\n",
      "he stangering in his bower's mo\n",
      "---------0.8---------\n",
      "o we finger thus? i cannot rest\n",
      "until the rack of clarence, therefore i lover\n",
      "have bear, by which is as accheath the coumses!\n",
      "you of this great when upon the sear humble\n",
      "and friend for the peeper, have save comeself,\n",
      "and his heart of the his thanked sayes\n",
      "perdied wat right coughtity know'dly tears?\n",
      "sweet dry we shall thou not that which n\n",
      "---------1---------\n",
      "e house of a\n",
      "most homely shepherd; a man.\n",
      "\n",
      "law up:\n",
      "lither frevun'd with of my rest things\n",
      "dovingen smiely for his heavate? brid commend,\n",
      "that as about the earl, though would we prince\n",
      "the reghied way youngle vengelumen my scon,\n",
      "nay, all have comes and menjury, grief:\n",
      "we, i thantagate himsts condrough fled up,\n",
      "is strapphing the kingble, my\n"
     ]
    }
   ],
   "source": [
    "def generate_text(length,temperature):\n",
    "    start_index=random.randint(0,len(text)-SEQ_LENGTH-1)\n",
    "    generated=''\n",
    "    sentence=text[start_index:start_index+SEQ_LENGTH]\n",
    "    generated +=sentence\n",
    "    for i in range(length):\n",
    "        x=np.zeros((1,SEQ_LENGTH,len(characters)))\n",
    "        for t,character in enumerate(sentence):\n",
    "            x[0,t,char_to_index[character]]=1\n",
    "        \n",
    "        predicitons=model.predict(x,verbose=0)[0]\n",
    "        next_index=sample(predicitons,temperature)\n",
    "        next_character=index_to_char[next_index]\n",
    "        \n",
    "        generated += next_character\n",
    "        sentence = sentence[1:]+next_character\n",
    "    return generated\n",
    "\n",
    "\n",
    "print('---------0.2---------')\n",
    "print(generate_text(300,0.2))\n",
    "print('---------0.4---------')\n",
    "print(generate_text(300,0.4))\n",
    "print('---------0.6---------')\n",
    "print(generate_text(300,0.6))\n",
    "print('---------0.8---------')\n",
    "print(generate_text(300,0.8))\n",
    "print('---------1---------')\n",
    "print(generate_text(300,1.0))\n"
   ]
  },
  {
   "cell_type": "code",
   "execution_count": null,
   "id": "82eb8c76",
   "metadata": {},
   "outputs": [],
   "source": []
  }
 ],
 "metadata": {
  "kernelspec": {
   "display_name": "Python 3 (ipykernel)",
   "language": "python",
   "name": "python3"
  },
  "language_info": {
   "codemirror_mode": {
    "name": "ipython",
    "version": 3
   },
   "file_extension": ".py",
   "mimetype": "text/x-python",
   "name": "python",
   "nbconvert_exporter": "python",
   "pygments_lexer": "ipython3",
   "version": "3.11.5"
  }
 },
 "nbformat": 4,
 "nbformat_minor": 5
}
